{
 "cells": [
  {
   "cell_type": "markdown",
   "metadata": {},
   "source": [
    "# Python으로 하는 기초 수학\n",
    "## 행렬"
   ]
  },
  {
   "cell_type": "code",
   "execution_count": 3,
   "metadata": {},
   "outputs": [],
   "source": [
    "import numpy as np"
   ]
  },
  {
   "cell_type": "code",
   "execution_count": 20,
   "metadata": {},
   "outputs": [
    {
     "data": {
      "text/plain": [
       "array([ 0,  1,  2,  3,  4,  5,  6,  7,  8,  9, 10, 11, 12, 13, 14, 15, 16,\n",
       "       17])"
      ]
     },
     "metadata": {},
     "output_type": "display_data"
    },
    {
     "data": {
      "text/plain": [
       "array([[ 0,  1,  2,  3,  4,  5],\n",
       "       [ 6,  7,  8,  9, 10, 11],\n",
       "       [12, 13, 14, 15, 16, 17]])"
      ]
     },
     "metadata": {},
     "output_type": "display_data"
    },
    {
     "data": {
      "text/plain": [
       "array([[9, 0, 0, 9],\n",
       "       [2, 2, 6, 9],\n",
       "       [3, 1, 0, 5]])"
      ]
     },
     "metadata": {},
     "output_type": "display_data"
    },
    {
     "data": {
      "text/plain": [
       "array([[0, 1, 2],\n",
       "       [3, 4, 5],\n",
       "       [6, 7, 8]])"
      ]
     },
     "metadata": {},
     "output_type": "display_data"
    },
    {
     "data": {
      "text/plain": [
       "array([[8, 3, 7, 0],\n",
       "       [0, 3, 8, 9],\n",
       "       [3, 9, 4, 7],\n",
       "       [4, 3, 4, 8]])"
      ]
     },
     "execution_count": 20,
     "metadata": {},
     "output_type": "execute_result"
    }
   ],
   "source": [
    "# 0~17까지의 수 나열\n",
    "display(np.arange(0, 18))\n",
    "\n",
    "# 0~17까지의 수를 3행 6열의 직사각형 행렬(장방행렬) 형태로 표현\n",
    "# 수의 개수와 행렬 성분 개수가 같아야 함\n",
    "display(np.arange(0, 18).reshape((3, 6)))\n",
    "\n",
    "# 랜덤한 값으로 만들 수도 있다.\n",
    "# 0~10까지의 수 중 랜덤으로 3행 4열의 행렬로 표현\n",
    "display(np.random.randint(0, 10, size=(3, 4)))\n",
    "\n",
    "# 정사각형 행렬인 정방행렬로 표현\n",
    "display(np.arange(0, 9).reshape((3, 3)))\n",
    "\n",
    "# 랜덤한 값으로 정방행렬 표현\n",
    "np.random.randint(0, 10, size=(4, 4))"
   ]
  },
  {
   "cell_type": "code",
   "execution_count": 21,
   "metadata": {},
   "outputs": [
    {
     "data": {
      "text/plain": [
       "array([[0., 0., 0., 0.],\n",
       "       [0., 0., 0., 0.],\n",
       "       [0., 0., 0., 0.],\n",
       "       [0., 0., 0., 0.]])"
      ]
     },
     "execution_count": 21,
     "metadata": {},
     "output_type": "execute_result"
    }
   ],
   "source": [
    "# 영행렬\n",
    "np.zeros((4, 4))"
   ]
  },
  {
   "cell_type": "code",
   "execution_count": 25,
   "metadata": {},
   "outputs": [
    {
     "data": {
      "text/plain": [
       "array([[1., 0., 0., 0.],\n",
       "       [0., 1., 0., 0.],\n",
       "       [0., 0., 1., 0.],\n",
       "       [0., 0., 0., 1.]])"
      ]
     },
     "execution_count": 25,
     "metadata": {},
     "output_type": "execute_result"
    }
   ],
   "source": [
    "# 항등행렬(단위행렬)\n",
    "np.identity(4)"
   ]
  },
  {
   "cell_type": "code",
   "execution_count": 31,
   "metadata": {},
   "outputs": [
    {
     "data": {
      "text/plain": [
       "array([[4, 0, 0, 0, 0, 0],\n",
       "       [0, 2, 0, 0, 0, 0],\n",
       "       [0, 0, 2, 0, 0, 0],\n",
       "       [0, 0, 0, 5, 0, 0],\n",
       "       [0, 0, 0, 0, 1, 0],\n",
       "       [0, 0, 0, 0, 0, 6]])"
      ]
     },
     "metadata": {},
     "output_type": "display_data"
    },
    {
     "data": {
      "text/plain": [
       "array([4, 2, 2, 5, 1, 6])"
      ]
     },
     "metadata": {},
     "output_type": "display_data"
    },
    {
     "data": {
      "text/plain": [
       "array([[1., 0., 0., 0.],\n",
       "       [0., 1., 0., 0.],\n",
       "       [0., 0., 1., 0.],\n",
       "       [0., 0., 0., 1.]])"
      ]
     },
     "metadata": {},
     "output_type": "display_data"
    },
    {
     "data": {
      "text/plain": [
       "array([[1., 0., 0., 0., 0.],\n",
       "       [0., 1., 0., 0., 0.],\n",
       "       [0., 0., 1., 0., 0.],\n",
       "       [0., 0., 0., 1., 0.]])"
      ]
     },
     "metadata": {},
     "output_type": "display_data"
    }
   ],
   "source": [
    "# 대각행렬\n",
    "# 대각행렬은 주대각선 원소를 제외한 모든 원소가 0인 정방행렬\n",
    "# 영행렬, 단위행렬은 모두 대각행렬에 포함된다.\n",
    "# 장방행렬 역시 주대각 성분을 제외한 나머지 원소가 0일 경우 대각행렬에 포함된다.\n",
    "\n",
    "# 대각행렬 만들기\n",
    "diag = np.diag((4, 2, 2, 5, 1, 6))\n",
    "display(diag)\n",
    "\n",
    "# 대각성분 뽑기\n",
    "display(np.diagonal(diag))\n",
    "\n",
    "# 대각성분이 1인 행렬 만들기\n",
    "display(np.eye(4, 4))\n",
    "\n",
    "# 장방행렬로 만들기\n",
    "# 직사각형일 경우 부분적으로 만들어진다.\n",
    "display(np.eye(4, 5))"
   ]
  },
  {
   "cell_type": "code",
   "execution_count": 34,
   "metadata": {},
   "outputs": [
    {
     "data": {
      "text/plain": [
       "array([[1., 0., 0., 0.],\n",
       "       [0., 1., 0., 0.],\n",
       "       [0., 0., 1., 0.],\n",
       "       [0., 0., 0., 1.]])"
      ]
     },
     "metadata": {},
     "output_type": "display_data"
    },
    {
     "data": {
      "text/plain": [
       "array([[5, 0, 0, 0],\n",
       "       [0, 5, 0, 0],\n",
       "       [0, 0, 5, 0],\n",
       "       [0, 0, 0, 5]])"
      ]
     },
     "execution_count": 34,
     "metadata": {},
     "output_type": "execute_result"
    }
   ],
   "source": [
    "# 스칼라 행렬\n",
    "# 주대각 성분이 모두 같은 원소로 된 대각행렬\n",
    "display(np.identity(4))\n",
    "\n",
    "# 대각 성분이 모두 같은 대각행렬\n",
    "np.diag(np.full(4, 5))"
   ]
  },
  {
   "cell_type": "code",
   "execution_count": 40,
   "metadata": {},
   "outputs": [
    {
     "data": {
      "text/plain": [
       "array([[ 0,  1,  2,  3,  4],\n",
       "       [ 5,  6,  7,  8,  9],\n",
       "       [10, 11, 12, 13, 14],\n",
       "       [15, 16, 17, 18, 19],\n",
       "       [20, 21, 22, 23, 24]])"
      ]
     },
     "metadata": {},
     "output_type": "display_data"
    },
    {
     "data": {
      "text/plain": [
       "array([[ 0,  1,  2,  3,  4],\n",
       "       [ 0,  6,  7,  8,  9],\n",
       "       [ 0,  0, 12, 13, 14],\n",
       "       [ 0,  0,  0, 18, 19],\n",
       "       [ 0,  0,  0,  0, 24]])"
      ]
     },
     "metadata": {},
     "output_type": "display_data"
    },
    {
     "data": {
      "text/plain": [
       "array([[ 0,  1,  2,  3,  4],\n",
       "       [ 5,  6,  7,  8,  9],\n",
       "       [10, 11, 12, 13, 14],\n",
       "       [15, 16, 17, 18, 19],\n",
       "       [20, 21, 22, 23, 24]])"
      ]
     },
     "execution_count": 40,
     "metadata": {},
     "output_type": "execute_result"
    }
   ],
   "source": [
    "# 삼각행렬\n",
    "# 정방행렬의 특수한 경우로, 주대각선을 기준으로 대각형의 위쪽이나 아래쪽 항들의 값이 모두 0인 행렬\n",
    "# 상삼각행렬과 하삼각행렬이 있다.\n",
    "\n",
    "mat = np.arange(0, 25).reshape((5, 5))\n",
    "display(mat)\n",
    "\n",
    "# 상삼각행렬\n",
    "# 0 대신 1~ 이상의 수를 대입할 경우, 점점 0이 아닌 기존의 값으로 채워진다.\n",
    "display(np.triu(mat, 0))\n",
    "\n",
    "# 하삼각행렬\n",
    "np.tril(mat, 0)"
   ]
  },
  {
   "cell_type": "code",
   "execution_count": 42,
   "metadata": {},
   "outputs": [
    {
     "data": {
      "text/plain": [
       "array([[ 0,  1,  2,  3],\n",
       "       [ 4,  5,  6,  7],\n",
       "       [ 8,  9, 10, 11],\n",
       "       [12, 13, 14, 15]])"
      ]
     },
     "metadata": {},
     "output_type": "display_data"
    },
    {
     "data": {
      "text/plain": [
       "array([[ 0,  4,  8, 12],\n",
       "       [ 1,  5,  9, 13],\n",
       "       [ 2,  6, 10, 14],\n",
       "       [ 3,  7, 11, 15]])"
      ]
     },
     "metadata": {},
     "output_type": "display_data"
    },
    {
     "data": {
      "text/plain": [
       "array([[ 0,  4,  8, 12],\n",
       "       [ 1,  5,  9, 13],\n",
       "       [ 2,  6, 10, 14],\n",
       "       [ 3,  7, 11, 15]])"
      ]
     },
     "execution_count": 42,
     "metadata": {},
     "output_type": "execute_result"
    }
   ],
   "source": [
    "# 전치행렬\n",
    "# 주대각 성분을 기준으로 행과 열을 대칭으로 바꾼 행렬\n",
    "# 주대각 성분을 기준으로 하므로, 주대각 성분은 변하지 않는다.\n",
    "\n",
    "mat = np.arange(0, 16).reshape((4, 4))\n",
    "display(mat)\n",
    "\n",
    "# 전치행렬 만들기\n",
    "display(mat.T)\n",
    "\n",
    "# 다른 방법\n",
    "np.transpose(mat)"
   ]
  },
  {
   "cell_type": "code",
   "execution_count": 44,
   "metadata": {},
   "outputs": [
    {
     "data": {
      "text/plain": [
       "array([[0, 0, 1],\n",
       "       [1, 0, 0],\n",
       "       [0, 1, 0]])"
      ]
     },
     "metadata": {},
     "output_type": "display_data"
    },
    {
     "data": {
      "text/plain": [
       "array([[1, 0, 0],\n",
       "       [0, 1, 0],\n",
       "       [0, 0, 1]])"
      ]
     },
     "execution_count": 44,
     "metadata": {},
     "output_type": "execute_result"
    }
   ],
   "source": [
    "# 직교행렬\n",
    "# 행렬 A의 역행렬이 A의 전치행렬인 행렬 A\n",
    "# 직교행렬과 직교행렬의 전치행렬을 행렬곱하면 단위행렬이 나온다.\n",
    "\n",
    "mat = np.array([[0, 0, 1],[1, 0, 0],[0, 1, 0]])\n",
    "display(mat)\n",
    "\n",
    "# 행렬 mat과 전치행렬 mat.T를 행렬곱하였을 때, 단위행렬이 나오는 행렬 \n",
    "np.dot(mat, mat.T)"
   ]
  },
  {
   "cell_type": "markdown",
   "metadata": {},
   "source": [
    "- 참고링크: https://gooopy.tistory.com/105"
   ]
  }
 ],
 "metadata": {
  "kernelspec": {
   "display_name": "Python 3",
   "language": "python",
   "name": "python3"
  },
  "language_info": {
   "codemirror_mode": {
    "name": "ipython",
    "version": 3
   },
   "file_extension": ".py",
   "mimetype": "text/x-python",
   "name": "python",
   "nbconvert_exporter": "python",
   "pygments_lexer": "ipython3",
   "version": "3.12.1"
  }
 },
 "nbformat": 4,
 "nbformat_minor": 2
}
